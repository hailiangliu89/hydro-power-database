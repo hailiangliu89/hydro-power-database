{
 "cells": [
  {
   "cell_type": "code",
   "execution_count": 1,
   "metadata": {},
   "outputs": [
    {
     "name": "stderr",
     "output_type": "stream",
     "text": [
      "/home/hll/miniconda3/envs/sector/lib/python3.6/site-packages/dask/config.py:168: YAMLLoadWarning: calling yaml.load() without Loader=... is deprecated, as the default Loader is unsafe. Please read https://msg.pyyaml.org/load for full details.\n",
      "  data = yaml.load(f.read()) or {}\n"
     ]
    }
   ],
   "source": [
    "import pandas as pd\n",
    "import geopandas as gpd\n",
    "from shapely.geometry import Point\n",
    "import atlite\n",
    "\n",
    "import matplotlib.pyplot as plt\n",
    "\n",
    "%matplotlib inline"
   ]
  },
  {
   "cell_type": "code",
   "execution_count": 2,
   "metadata": {},
   "outputs": [],
   "source": [
    "h = pd.read_csv('data/jrc-hydro-power-plant-database.csv')"
   ]
  },
  {
   "cell_type": "code",
   "execution_count": 3,
   "metadata": {},
   "outputs": [
    {
     "data": {
      "text/plain": [
       "array(['HDAM', 'HPHS', 'HROR'], dtype=object)"
      ]
     },
     "execution_count": 3,
     "metadata": {},
     "output_type": "execute_result"
    }
   ],
   "source": [
    "h.type.unique()"
   ]
  },
  {
   "cell_type": "code",
   "execution_count": 4,
   "metadata": {},
   "outputs": [
    {
     "data": {
      "text/html": [
       "<div>\n",
       "<style scoped>\n",
       "    .dataframe tbody tr th:only-of-type {\n",
       "        vertical-align: middle;\n",
       "    }\n",
       "\n",
       "    .dataframe tbody tr th {\n",
       "        vertical-align: top;\n",
       "    }\n",
       "\n",
       "    .dataframe thead th {\n",
       "        text-align: right;\n",
       "    }\n",
       "</style>\n",
       "<table border=\"1\" class=\"dataframe\">\n",
       "  <thead>\n",
       "    <tr style=\"text-align: right;\">\n",
       "      <th></th>\n",
       "      <th>id</th>\n",
       "      <th>name</th>\n",
       "      <th>installed_capacity_MW</th>\n",
       "      <th>type</th>\n",
       "      <th>country_code</th>\n",
       "      <th>lat</th>\n",
       "      <th>lon</th>\n",
       "      <th>dam_height_m</th>\n",
       "      <th>volume_Mm3</th>\n",
       "      <th>storage_capacity_MWh</th>\n",
       "      <th>pypsa_id</th>\n",
       "      <th>GEO</th>\n",
       "    </tr>\n",
       "  </thead>\n",
       "  <tbody>\n",
       "    <tr>\n",
       "      <th>0</th>\n",
       "      <td>1</td>\n",
       "      <td>Grande Dixence Hydroelectric Power Scheme Swit...</td>\n",
       "      <td>2069.00</td>\n",
       "      <td>HDAM</td>\n",
       "      <td>CH</td>\n",
       "      <td>46.073100</td>\n",
       "      <td>7.403400</td>\n",
       "      <td>285.0</td>\n",
       "      <td>400.00</td>\n",
       "      <td>1764300.0</td>\n",
       "      <td>NaN</td>\n",
       "      <td>45218.0</td>\n",
       "    </tr>\n",
       "    <tr>\n",
       "      <th>1</th>\n",
       "      <td>2</td>\n",
       "      <td>Dinorwig</td>\n",
       "      <td>1728.00</td>\n",
       "      <td>HPHS</td>\n",
       "      <td>GB</td>\n",
       "      <td>53.118744</td>\n",
       "      <td>-4.113624</td>\n",
       "      <td>NaN</td>\n",
       "      <td>6.70</td>\n",
       "      <td>9100.0</td>\n",
       "      <td>23.0</td>\n",
       "      <td>2941.0</td>\n",
       "    </tr>\n",
       "    <tr>\n",
       "      <th>2</th>\n",
       "      <td>3</td>\n",
       "      <td>Grand maison GRAND MAISON 1 - Grand Maison Pum...</td>\n",
       "      <td>1690.00</td>\n",
       "      <td>HPHS</td>\n",
       "      <td>FR</td>\n",
       "      <td>45.205970</td>\n",
       "      <td>6.117190</td>\n",
       "      <td>160.0</td>\n",
       "      <td>132.00</td>\n",
       "      <td>34800.0</td>\n",
       "      <td>1541.0</td>\n",
       "      <td>42969.0</td>\n",
       "    </tr>\n",
       "    <tr>\n",
       "      <th>3</th>\n",
       "      <td>4</td>\n",
       "      <td>Muela</td>\n",
       "      <td>1516.76</td>\n",
       "      <td>HPHS</td>\n",
       "      <td>ES</td>\n",
       "      <td>39.243581</td>\n",
       "      <td>-0.931709</td>\n",
       "      <td>450.0</td>\n",
       "      <td>20.00</td>\n",
       "      <td>24500.0</td>\n",
       "      <td>209.0</td>\n",
       "      <td>NaN</td>\n",
       "    </tr>\n",
       "    <tr>\n",
       "      <th>4</th>\n",
       "      <td>5</td>\n",
       "      <td>Psw vianden Vianden 1 - Vianden Pumped Storage...</td>\n",
       "      <td>1291.00</td>\n",
       "      <td>HPHS</td>\n",
       "      <td>LU</td>\n",
       "      <td>49.951567</td>\n",
       "      <td>6.180031</td>\n",
       "      <td>280.0</td>\n",
       "      <td>7.34</td>\n",
       "      <td>4478.0</td>\n",
       "      <td>1551.0</td>\n",
       "      <td>45216.0</td>\n",
       "    </tr>\n",
       "  </tbody>\n",
       "</table>\n",
       "</div>"
      ],
      "text/plain": [
       "   id                                               name  \\\n",
       "0   1  Grande Dixence Hydroelectric Power Scheme Swit...   \n",
       "1   2                                           Dinorwig   \n",
       "2   3  Grand maison GRAND MAISON 1 - Grand Maison Pum...   \n",
       "3   4                                              Muela   \n",
       "4   5  Psw vianden Vianden 1 - Vianden Pumped Storage...   \n",
       "\n",
       "   installed_capacity_MW  type country_code        lat       lon  \\\n",
       "0                2069.00  HDAM           CH  46.073100  7.403400   \n",
       "1                1728.00  HPHS           GB  53.118744 -4.113624   \n",
       "2                1690.00  HPHS           FR  45.205970  6.117190   \n",
       "3                1516.76  HPHS           ES  39.243581 -0.931709   \n",
       "4                1291.00  HPHS           LU  49.951567  6.180031   \n",
       "\n",
       "   dam_height_m  volume_Mm3  storage_capacity_MWh  pypsa_id      GEO  \n",
       "0         285.0      400.00             1764300.0       NaN  45218.0  \n",
       "1           NaN        6.70                9100.0      23.0   2941.0  \n",
       "2         160.0      132.00               34800.0    1541.0  42969.0  \n",
       "3         450.0       20.00               24500.0     209.0      NaN  \n",
       "4         280.0        7.34                4478.0    1551.0  45216.0  "
      ]
     },
     "execution_count": 4,
     "metadata": {},
     "output_type": "execute_result"
    }
   ],
   "source": [
    "h.head()"
   ]
  },
  {
   "cell_type": "code",
   "execution_count": 5,
   "metadata": {},
   "outputs": [],
   "source": [
    "h['Coordinates'] = list(zip(h.lon, h.lat))\n",
    "\n",
    "h['Coordinates'] = h['Coordinates'].apply(Point)\n",
    "\n",
    "g = gpd.GeoDataFrame(h, geometry='Coordinates')"
   ]
  },
  {
   "cell_type": "code",
   "execution_count": 6,
   "metadata": {},
   "outputs": [
    {
     "data": {
      "text/plain": [
       "<matplotlib.axes._subplots.AxesSubplot at 0x7fe94adb2b38>"
      ]
     },
     "execution_count": 6,
     "metadata": {},
     "output_type": "execute_result"
    },
    {
     "data": {
      "image/png": "[encoded data removed]",
      "text/plain": [
       "<Figure size 432x288 with 1 Axes>"
      ]
     },
     "metadata": {
      "needs_background": "light"
     },
     "output_type": "display_data"
    }
   ],
   "source": [
    "g.plot()"
   ]
  },
  {
   "cell_type": "code",
   "execution_count": 7,
   "metadata": {},
   "outputs": [
    {
     "name": "stderr",
     "output_type": "stream",
     "text": [
      "/home/hll/miniconda3/envs/sector/lib/python3.6/site-packages/geopandas/geodataframe.py:455: UserWarning: Boolean Series key will be reindexed to match DataFrame index.\n",
      "  result = super(GeoDataFrame, self).__getitem__(key)\n"
     ]
    },
    {
     "data": {
      "text/plain": [
       "<matplotlib.axes._subplots.AxesSubplot at 0x7fe94ac64f60>"
      ]
     },
     "execution_count": 7,
     "metadata": {},
     "output_type": "execute_result"
    },
    {
     "data": {
      "image/png": "[encoded data removed]",
      "text/plain": [
       "<Figure size 432x288 with 1 Axes>"
      ]
     },
     "metadata": {
      "needs_background": "light"
     },
     "output_type": "display_data"
    }
   ],
   "source": [
    "g[h.type=='HDAM'][h.country_code=='ES'].plot()"
   ]
  },
  {
   "cell_type": "code",
   "execution_count": 8,
   "metadata": {},
   "outputs": [
    {
     "name": "stderr",
     "output_type": "stream",
     "text": [
      "Determine upstream basins per plant: 100% (124 of 124) || Elapsed Time: 0:00:09 Time:  0:00:09\n",
      "Convert and aggregate runoff per basin: 100% (1 of 1) || Elapsed Time: 0:00:00 Time:  0:00:00\n",
      "Shift and aggregate runoff by plant: 100% (124 of 124) || Elapsed Time: 0:00:01 Time:  0:00:01\n"
     ]
    }
   ],
   "source": [
    "cutout = atlite.Cutout('europe-2011-01')\n",
    "\n",
    "inflow = cutout.hydro(h[h.country_code=='ES'], 'hydroBASINS/hybas_eu_lev07_v1c.shp')"
   ]
  },
  {
   "cell_type": "code",
   "execution_count": 9,
   "metadata": {},
   "outputs": [
    {
     "data": {
      "text/plain": [
       "<xarray.DataArray (plant: 124, time: 744)>\n",
       "array([[         nan,          nan,          nan, ..., 3.468256e+11,\n",
       "        1.895685e+11, 2.537935e+11],\n",
       "       [         nan,          nan,          nan, ...,          nan,\n",
       "                 nan,          nan],\n",
       "       [         nan,          nan,          nan, ...,          nan,\n",
       "                 nan,          nan],\n",
       "       ...,\n",
       "       [         nan,          nan,          nan, ...,          nan,\n",
       "                 nan,          nan],\n",
       "       [9.699611e+12, 9.657226e+12, 9.706882e+12, ..., 7.403941e+12,\n",
       "        7.326318e+12, 7.415068e+12],\n",
       "       [1.717052e+12, 1.717052e+12, 1.714590e+12, ..., 1.070831e+12,\n",
       "        1.101750e+12, 1.123043e+12]])\n",
       "Coordinates:\n",
       "  * plant    (plant) int64 3 5 15 24 44 57 60 ... 1549 1574 1594 1615 1634 1728\n",
       "  * time     (time) datetime64[ns] 2011-01-01 ... 2011-01-31T23:00:00"
      ]
     },
     "execution_count": 9,
     "metadata": {},
     "output_type": "execute_result"
    }
   ],
   "source": [
    "inflow"
   ]
  },
  {
   "cell_type": "code",
   "execution_count": 10,
   "metadata": {},
   "outputs": [
    {
     "data": {
      "text/plain": [
       "(124, 744)"
      ]
     },
     "execution_count": 10,
     "metadata": {},
     "output_type": "execute_result"
    }
   ],
   "source": [
    "inflow.data.shape"
   ]
  },
  {
   "cell_type": "code",
   "execution_count": 11,
   "metadata": {},
   "outputs": [
    {
     "data": {
      "text/plain": [
       "array([1.71705220e+12, 1.71705220e+12, 1.71458956e+12, 1.71308998e+12,\n",
       "       1.71748926e+12, 1.71811473e+12, 1.71919392e+12, 1.71919392e+12,\n",
       "       1.69276698e+12, 1.73513855e+12, 1.78359030e+12, 1.85900208e+12,\n",
       "       1.79143691e+12, 1.74284599e+12, 1.72315987e+12, 1.71194249e+12,\n",
       "       1.71308998e+12, 1.70249113e+12, 1.71805082e+12, 1.71483843e+12,\n",
       "       1.71101627e+12, 1.72187304e+12, 1.70197572e+12, 1.71363201e+12,\n",
       "       1.66228773e+12, 1.66340842e+12, 1.65835871e+12, 1.65622302e+12,\n",
       "       1.66501837e+12, 1.65884591e+12, 1.65846326e+12, 1.65846326e+12,\n",
       "       1.65504301e+12, 1.66188352e+12, 1.67138043e+12, 1.65232435e+12,\n",
       "       1.66136833e+12, 1.65407854e+12, 1.65456242e+12, 1.65183051e+12,\n",
       "       1.66585471e+12, 1.65178207e+12, 1.65180719e+12, 1.64902864e+12,\n",
       "       1.66436139e+12, 1.64306103e+12, 1.64829878e+12, 1.66687069e+12,\n",
       "       1.59773266e+12, 1.59773266e+12, 1.62449244e+12, 1.57043089e+12,\n",
       "       1.59699560e+12, 1.60371063e+12, 1.59325425e+12, 1.59164807e+12,\n",
       "       1.59155453e+12, 1.59334782e+12, 1.59131292e+12, 1.59938201e+12,\n",
       "       1.58813417e+12, 1.58799867e+12, 1.59534743e+12, 1.57746965e+12,\n",
       "       1.59029984e+12, 1.58596490e+12, 1.58334530e+12, 1.58056676e+12,\n",
       "       1.58428491e+12, 1.58652634e+12, 1.58447194e+12, 1.57488202e+12,\n",
       "       1.53408795e+12, 1.52479697e+12, 1.53735712e+12, 1.54010976e+12,\n",
       "       1.50912306e+12, 1.54700919e+12, 1.52804529e+12, 1.52804529e+12,\n",
       "       1.52554036e+12, 1.51501302e+12, 1.51823565e+12, 1.54195745e+12,\n",
       "       1.52191883e+12, 1.51597576e+12, 1.52026100e+12, 1.51442120e+12,\n",
       "       1.52872095e+12, 1.51180102e+12, 1.51425200e+12, 1.51425200e+12,\n",
       "       1.51697435e+12, 1.50597248e+12, 1.51276844e+12, 1.51245583e+12,\n",
       "       1.47862095e+12, 1.47862095e+12, 1.43282332e+12, 1.52441851e+12,\n",
       "       1.41958739e+12, 1.39426055e+12, 1.45676745e+12, 1.45901555e+12,\n",
       "       1.46654233e+12, 1.44368345e+12, 1.46305215e+12, 1.46253327e+12,\n",
       "       1.45261001e+12, 1.45261001e+12, 1.46153657e+12, 1.43560056e+12,\n",
       "       1.44599678e+12, 1.48515920e+12, 1.44652544e+12, 1.44486756e+12,\n",
       "       1.44294038e+12, 1.44289543e+12, 1.43143053e+12, 1.45123806e+12,\n",
       "       1.39863154e+12, 1.39306766e+12, 1.40633378e+12, 1.38536542e+12,\n",
       "       1.40885951e+12, 1.40380806e+12, 1.39424341e+12, 1.38868628e+12,\n",
       "       1.40301795e+12, 1.37112540e+12, 1.40404746e+12, 1.39269366e+12,\n",
       "       1.38806524e+12, 1.38250811e+12, 1.37139631e+12, 1.39275232e+12,\n",
       "       1.37151537e+12, 1.37127715e+12, 1.37273825e+12, 1.38207429e+12,\n",
       "       1.36603122e+12, 1.37990835e+12, 1.37215492e+12, 1.36235587e+12,\n",
       "       1.33031540e+12, 1.33031540e+12, 1.33867968e+12, 1.32195109e+12,\n",
       "       1.32843446e+12, 1.33595844e+12, 1.33659469e+12, 1.35190258e+12,\n",
       "       1.40726702e+12, 1.60990757e+12, 1.82457857e+12, 1.84346206e+12,\n",
       "       1.71081469e+12, 1.50568094e+12, 1.38429209e+12, 1.34159084e+12,\n",
       "       1.32199268e+12, 1.36018341e+12, 1.46086528e+12, 1.43511335e+12,\n",
       "       1.38130901e+12, 1.36021464e+12, 1.37975097e+12, 1.34058490e+12,\n",
       "       1.43183790e+12, 1.36653234e+12, 1.32830547e+12, 1.32421214e+12,\n",
       "       1.31332694e+12, 1.30251493e+12, 1.36447183e+12, 1.35854046e+12,\n",
       "       1.37159087e+12, 1.37970934e+12, 1.42114354e+12, 1.39068874e+12,\n",
       "       1.38126866e+12, 1.35720144e+12, 1.43384249e+12, 1.24811949e+12,\n",
       "       1.27862508e+12, 1.22843778e+12, 1.24588972e+12, 1.24664756e+12,\n",
       "       1.24449710e+12, 1.24360372e+12, 1.23231315e+12, 1.25234795e+12,\n",
       "       1.24031553e+12, 1.23974401e+12, 1.23389058e+12, 1.22965392e+12,\n",
       "       1.22177040e+12, 1.23279801e+12, 1.23652360e+12, 1.25346188e+12,\n",
       "       1.27709307e+12, 1.27709830e+12, 1.27607406e+12, 1.23029029e+12,\n",
       "       1.23618062e+12, 1.22316927e+12, 1.20826658e+12, 1.19658691e+12,\n",
       "       1.19066922e+12, 1.20895693e+12, 1.18896797e+12, 1.18458317e+12,\n",
       "       1.18886409e+12, 1.18468705e+12, 1.19193911e+12, 1.17343269e+12,\n",
       "       1.19546797e+12, 1.18735603e+12, 1.17043074e+12, 1.18520338e+12,\n",
       "       1.15598904e+12, 1.18403772e+12, 1.16686030e+12, 1.15870341e+12,\n",
       "       1.16786193e+12, 1.17729997e+12, 1.21272425e+12, 1.15995684e+12,\n",
       "       1.16182594e+12, 1.18681928e+12, 1.65903596e+12, 2.91036173e+12,\n",
       "       4.79698060e+12, 2.37090077e+12, 1.13008287e+12, 1.12981186e+12,\n",
       "       1.14501992e+12, 1.11487482e+12, 1.15353194e+12, 1.08106241e+12,\n",
       "       1.24620637e+12, 1.40066175e+12, 1.19902529e+12, 1.10158815e+12,\n",
       "       1.11726355e+12, 1.09786089e+12, 1.10144927e+12, 1.10144927e+12,\n",
       "       1.09550951e+12, 1.12295785e+12, 1.10079221e+12, 1.10525336e+12,\n",
       "       1.09979472e+12, 1.10310379e+12, 1.09202613e+12, 1.09786107e+12,\n",
       "       1.09181019e+12, 1.10525339e+12, 1.09578949e+12, 1.09578949e+12,\n",
       "       1.09668367e+12, 1.24996795e+12, 1.90835317e+12, 2.55137096e+12,\n",
       "       1.58266496e+12, 1.11461593e+12, 1.09996615e+12, 1.06586490e+12,\n",
       "       1.06821312e+12, 1.08329497e+12, 1.07733602e+12, 1.07733602e+12,\n",
       "       1.04472880e+12, 1.10940120e+12, 1.06167114e+12, 1.05055716e+12,\n",
       "       1.07880670e+12, 1.07880670e+12, 1.06692592e+12, 1.06889619e+12,\n",
       "       1.07649565e+12, 1.09026170e+12, 1.07551332e+12, 1.07551332e+12,\n",
       "       1.08201113e+12, 1.08012985e+12, 1.08072730e+12, 1.07860534e+12,\n",
       "       1.04073486e+12, 1.04073486e+12, 1.04313682e+12, 1.04133591e+12,\n",
       "       1.04144136e+12, 1.09377710e+12, 1.09651356e+12, 1.11926230e+12,\n",
       "       1.19584764e+12, 1.22209363e+12, 1.22215636e+12, 1.24999776e+12,\n",
       "       1.32344205e+12, 1.60730598e+12, 2.18996753e+12, 1.74516837e+12,\n",
       "       1.22248264e+12, 1.03888725e+12, 1.04958580e+12, 1.05119197e+12,\n",
       "       1.04734112e+12, 1.05343661e+12, 1.04209968e+12, 1.05900726e+12,\n",
       "       1.12171755e+12, 1.14452799e+12, 1.14673560e+12, 1.26573875e+12,\n",
       "       1.25674623e+12, 1.18932209e+12, 1.15603506e+12, 1.10001749e+12,\n",
       "       1.16904866e+12, 1.16087675e+12, 1.06644815e+12, 1.02805876e+12,\n",
       "       1.05046578e+12, 1.05602295e+12, 1.04653735e+12, 1.05959037e+12,\n",
       "       1.05305209e+12, 1.04680845e+12, 1.06239796e+12, 1.06400413e+12,\n",
       "       1.07638139e+12, 1.06200265e+12, 1.08234233e+12, 1.07128795e+12,\n",
       "       1.05273425e+12, 1.05225037e+12, 1.07252990e+12, 1.03887954e+12,\n",
       "       1.07128783e+12, 1.07377193e+12, 1.06824638e+12, 1.08120944e+12,\n",
       "       1.06456964e+12, 1.08488619e+12, 1.05803129e+12, 1.10618608e+12,\n",
       "       1.09160938e+12, 1.09482175e+12, 1.09532693e+12, 1.09110417e+12,\n",
       "       1.10361852e+12, 1.09988483e+12, 1.11108552e+12, 1.11269172e+12,\n",
       "       1.11496729e+12, 1.12079185e+12, 1.12139707e+12, 1.13230228e+12,\n",
       "       1.10855645e+12, 1.11133502e+12, 1.12125663e+12, 1.11811269e+12,\n",
       "       1.15194774e+12, 1.09505137e+12, 1.13323845e+12, 1.13323845e+12,\n",
       "       1.14080969e+12, 1.14320626e+12, 1.15414727e+12, 1.15808793e+12,\n",
       "       1.15985885e+12, 1.15985885e+12, 1.15836227e+12, 1.17889440e+12,\n",
       "       1.17811112e+12, 1.17114419e+12, 1.18415054e+12, 1.18462764e+12,\n",
       "       1.19640867e+12, 1.18660962e+12, 1.20716208e+12, 1.19537902e+12,\n",
       "       1.17994754e+12, 1.18315991e+12, 1.20521990e+12, 1.16900192e+12,\n",
       "       1.20207486e+12, 1.22776262e+12, 1.21100437e+12, 1.21100437e+12,\n",
       "       1.21481534e+12, 1.21361817e+12, 1.23921217e+12, 1.21909867e+12,\n",
       "       1.23128543e+12, 1.23128543e+12, 1.26371846e+12, 1.23567028e+12,\n",
       "       1.26491551e+12, 1.24324271e+12, 1.26232654e+12, 1.26564231e+12,\n",
       "       1.26066354e+12, 1.28484436e+12, 1.25815109e+12, 1.30176967e+12,\n",
       "       1.16859141e+12, 1.16859141e+12, 1.15431934e+12, 1.19379784e+12,\n",
       "       1.18092800e+12, 1.19379801e+12, 1.18825815e+12, 1.18892414e+12,\n",
       "       1.19312167e+12, 1.19925491e+12, 1.24468024e+12, 1.23713268e+12,\n",
       "       1.23293680e+12, 1.21131777e+12, 1.20812775e+12, 1.21236964e+12,\n",
       "       1.21776174e+12, 1.20940149e+12, 1.22388695e+12, 1.22843813e+12,\n",
       "       1.22562865e+12, 1.22990875e+12, 1.23670804e+12, 1.24193233e+12,\n",
       "       1.21152070e+12, 1.22179683e+12, 1.21963258e+12, 1.22272558e+12,\n",
       "       1.20583136e+12, 1.24193234e+12, 1.22845381e+12, 1.26233033e+12,\n",
       "       1.22925367e+12, 1.26153045e+12, 1.26870404e+12, 1.20265284e+12,\n",
       "       1.25761286e+12, 1.25761286e+12, 1.26408784e+12, 1.25113790e+12,\n",
       "       1.28624321e+12, 1.25498871e+12, 1.26695028e+12, 1.26695028e+12,\n",
       "       1.27454600e+12, 1.27143982e+12, 1.28597216e+12, 1.28945555e+12,\n",
       "       1.25453092e+12, 1.26528421e+12, 1.24910592e+12, 1.27530877e+12,\n",
       "       1.30380899e+12, 1.21203202e+12, 1.27261224e+12, 1.27261224e+12,\n",
       "       1.28554635e+12, 1.29287466e+12, 1.27775933e+12, 1.30398897e+12,\n",
       "       1.29216695e+12, 1.29872435e+12, 1.29245954e+12, 1.30747239e+12,\n",
       "       1.30720115e+12, 1.29338996e+12, 1.31172162e+12, 1.31337950e+12,\n",
       "       1.31762876e+12, 1.31624186e+12, 1.32935687e+12, 1.32152796e+12,\n",
       "       1.30981713e+12, 1.28766498e+12, 1.29349310e+12, 1.31510328e+12,\n",
       "       1.33664332e+12, 1.33063721e+12, 1.31912384e+12, 1.31912384e+12,\n",
       "       1.33425878e+12, 1.32815956e+12, 1.29148126e+12, 1.35286566e+12,\n",
       "       1.33624418e+12, 1.33624418e+12, 1.34731180e+12, 1.34935749e+12,\n",
       "       1.34837277e+12, 1.34432553e+12, 1.35556990e+12, 1.35834851e+12,\n",
       "       1.36101849e+12, 1.35942813e+12, 1.37145101e+12, 1.36170013e+12,\n",
       "       1.33714069e+12, 1.33714069e+12, 1.35748528e+12, 1.33639431e+12,\n",
       "       1.37309563e+12, 1.35051178e+12, 1.35474494e+12, 1.36361794e+12,\n",
       "       1.35555990e+12, 1.36731258e+12, 1.36658754e+12, 1.38366807e+12,\n",
       "       1.36978035e+12, 1.37299272e+12, 1.37523122e+12, 1.36754184e+12,\n",
       "       1.41043949e+12, 1.35756184e+12, 1.38632407e+12, 1.38715302e+12,\n",
       "       1.39099200e+12, 1.38414298e+12, 1.40519856e+12, 1.38625532e+12,\n",
       "       1.43500091e+12, 1.43109497e+12, 1.44955241e+12, 1.42765778e+12,\n",
       "       1.46381612e+12, 1.42417438e+12, 1.44843168e+12, 1.44843168e+12,\n",
       "       1.44201147e+12, 1.45539389e+12, 1.42417448e+12, 1.47042086e+12,\n",
       "       1.44696100e+12, 1.45790315e+12, 1.45172511e+12, 1.44992668e+12,\n",
       "       1.45838027e+12, 1.44239955e+12, 1.45191221e+12, 1.46496530e+12,\n",
       "       1.44992671e+12, 1.46695086e+12, 1.44239926e+12, 1.47705245e+12,\n",
       "       1.41985510e+12, 1.41985510e+12, 1.42364966e+12, 1.42917529e+12,\n",
       "       1.42161787e+12, 1.42917516e+12, 1.42542231e+12, 1.42542231e+12,\n",
       "       1.43478430e+12, 1.41616371e+12, 1.42035092e+12, 1.44268947e+12,\n",
       "       1.42384196e+12, 1.42384196e+12, 1.43179118e+12, 1.42596291e+12,\n",
       "       1.44164526e+12, 1.39432799e+12, 1.42727084e+12, 1.43371364e+12,\n",
       "       1.42936087e+12, 1.43189460e+12, 1.42275043e+12, 1.43511705e+12,\n",
       "       1.39451785e+12, 1.37831206e+12, 1.41112963e+12, 1.38129840e+12,\n",
       "       1.39461795e+12, 1.40804318e+12, 1.39789272e+12, 1.39789272e+12,\n",
       "       1.37844706e+12, 1.41091363e+12, 1.38844510e+12, 1.42535731e+12,\n",
       "       1.40920095e+12, 1.40364380e+12, 1.39551256e+12, 1.38865191e+12,\n",
       "       1.40097966e+12, 1.37699578e+12, 1.39036333e+12, 1.38875712e+12,\n",
       "       1.38716706e+12, 1.39195338e+12, 1.38604622e+12, 1.39819034e+12,\n",
       "       1.35316616e+12, 1.35890507e+12, 1.34139065e+12, 1.36746820e+12,\n",
       "       1.33488497e+12, 1.34640033e+12, 1.35230484e+12, 1.35343224e+12,\n",
       "       1.35548236e+12, 1.35025470e+12, 1.34613114e+12, 1.50451775e+12,\n",
       "       1.37610170e+12, 1.35626999e+12, 1.35600227e+12, 1.33825933e+12,\n",
       "       1.35255433e+12, 1.34975749e+12, 1.34631637e+12, 1.34631637e+12,\n",
       "       1.34366522e+12, 1.34602621e+12, 1.36538485e+12, 1.31846211e+12,\n",
       "       1.31033162e+12, 1.30872546e+12, 1.30813599e+12, 1.31092109e+12,\n",
       "       1.30231919e+12, 1.30752796e+12, 1.30770879e+12, 1.30770879e+12,\n",
       "       1.30338032e+12, 1.28978190e+12, 1.31846208e+12, 1.31055391e+12,\n",
       "       1.30180166e+12, 1.30153066e+12, 1.29695556e+12, 1.29526251e+12,\n",
       "       1.29695543e+12, 1.32306170e+12, 1.29924566e+12, 1.29924566e+12,\n",
       "       1.29955188e+12, 1.29338223e+12, 1.29241111e+12, 1.30113545e+12,\n",
       "       1.24739297e+12, 1.24739297e+12, 1.24121661e+12, 1.25025348e+12,\n",
       "       1.23109147e+12, 1.24354317e+12, 1.24217927e+12, 1.24217927e+12,\n",
       "       1.23078915e+12, 1.24714460e+12, 1.25519924e+12, 1.23891003e+12,\n",
       "       1.23618827e+12, 1.23618827e+12, 1.25936610e+12, 1.21301044e+12,\n",
       "       1.23102874e+12, 1.25719795e+12, 1.23180354e+12, 1.23418717e+12,\n",
       "       1.23520147e+12, 1.22201958e+12, 1.24062992e+12, 1.22950226e+12,\n",
       "       1.20124072e+12, 1.20124072e+12, 1.20234612e+12, 1.20437713e+12,\n",
       "       1.22414516e+12, 1.15425003e+12, 1.20069497e+12, 1.20069497e+12,\n",
       "       1.19145574e+12, 1.20350948e+12, 1.18883995e+12, 1.18275031e+12,\n",
       "       1.19549173e+12, 1.19549173e+12, 1.18100742e+12, 1.20120642e+12,\n",
       "       1.18194450e+12, 1.18883986e+12, 1.18947488e+12, 1.18947488e+12,\n",
       "       1.17999821e+12, 1.19573917e+12, 1.17928034e+12, 1.17281401e+12,\n",
       "       1.15460279e+12, 1.16522255e+12, 1.15902350e+12, 1.13313761e+12,\n",
       "       1.16992767e+12, 1.12556965e+12, 1.15469894e+12, 1.14252472e+12,\n",
       "       1.13897922e+12, 1.15824444e+12, 1.15878652e+12, 1.11917192e+12,\n",
       "       1.14813304e+12, 1.14813304e+12, 1.13994698e+12, 1.13857320e+12,\n",
       "       1.15899334e+12, 1.13864648e+12, 1.14346844e+12, 1.14186224e+12,\n",
       "       1.13558469e+12, 1.14974597e+12, 1.13894774e+12, 1.13222163e+12,\n",
       "       1.11472472e+12, 1.11472472e+12, 1.11430813e+12, 1.10871652e+12,\n",
       "       1.09914886e+12, 1.13589221e+12, 1.10217634e+12, 1.10217634e+12,\n",
       "       1.12437819e+12, 1.10255564e+12, 1.11169952e+12, 1.10805105e+12,\n",
       "       1.10480030e+12, 1.10319414e+12, 1.10543886e+12, 1.10255557e+12,\n",
       "       1.10228465e+12, 1.09747871e+12, 1.09878350e+12, 1.08444334e+12,\n",
       "       1.11239632e+12, 1.07083055e+12, 1.10174976e+12, 1.12304289e+12])"
      ]
     },
     "execution_count": 11,
     "metadata": {},
     "output_type": "execute_result"
    }
   ],
   "source": [
    "inflow.data[-1,:]"
   ]
  },
  {
   "cell_type": "code",
   "execution_count": null,
   "metadata": {},
   "outputs": [],
   "source": []
  }
 ],
 "metadata": {
  "kernelspec": {
   "display_name": "Python 3",
   "language": "python",
   "name": "python3"
  },
  "language_info": {
   "codemirror_mode": {
    "name": "ipython",
    "version": 3
   },
   "file_extension": ".py",
   "mimetype": "text/x-python",
   "name": "python",
   "nbconvert_exporter": "python",
   "pygments_lexer": "ipython3",
   "version": "3.6.7"
  }
 },
 "nbformat": 4,
 "nbformat_minor": 2
}
